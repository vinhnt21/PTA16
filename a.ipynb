{
 "cells": [
  {
   "cell_type": "code",
   "execution_count": 5,
   "metadata": {},
   "outputs": [
    {
     "data": {
      "text/plain": [
       "'a.txt'"
      ]
     },
     "execution_count": 5,
     "metadata": {},
     "output_type": "execute_result"
    }
   ],
   "source": [
    "latex_code = r\"\"\"\n",
    "\\documentclass{article}\n",
    "\\usepackage{amsmath}\n",
    "\\usepackage{amssymb}\n",
    "\n",
    "\\begin{document}\n",
    "\n",
    "Một số ký hiệu toán học phổ biến trong LaTeX:\n",
    "\n",
    "\\begin{align*}\n",
    "&\\text{Tích phân: } \\int_{a}^{b} x^2 \\, dx \\\\\n",
    "&\\text{Sigma tổng: } \\sum_{n=1}^{\\infty} \\frac{1}{n^2} \\\\\n",
    "&\\text{Ký hiệu đặc biệt: } \\alpha, \\beta, \\gamma, \\delta, \\theta, \\omega \\\\\n",
    "&\\text{Ký hiệu tập hợp: } \\mathbb{R}, \\mathbb{Z}, \\mathbb{N}, \\mathbb{Q}, \\mathbb{C} \\\\\n",
    "&\\text{Mũi tên: } \\rightarrow, \\Rightarrow, \\leftrightarrow, \\Leftrightarrow \\\\\n",
    "&\\text{Ký hiệu toán học khác: } \\forall, \\exists, \\nabla, \\infty, \\cup, \\cap \\\\\n",
    "&\\text{Ký hiệu suy ra: } a \\implies b \\quad \\text{và chỉ khi: } a \\iff b \\\\\n",
    "\\end{align*}\n",
    "\n",
    "\\end{document}\n",
    "\"\"\"\n",
    "\n",
    "# Lưu file LaTeX\n",
    "file_path = \"a.txt\"\n",
    "with open(file_path, \"w\") as tex_file:\n",
    "    tex_file.write(latex_code)\n",
    "\n",
    "file_path\n"
   ]
  }
 ],
 "metadata": {
  "kernelspec": {
   "display_name": "Python 3",
   "language": "python",
   "name": "python3"
  },
  "language_info": {
   "codemirror_mode": {
    "name": "ipython",
    "version": 3
   },
   "file_extension": ".py",
   "mimetype": "text/x-python",
   "name": "python",
   "nbconvert_exporter": "python",
   "pygments_lexer": "ipython3",
   "version": "3.12.4"
  }
 },
 "nbformat": 4,
 "nbformat_minor": 2
}
