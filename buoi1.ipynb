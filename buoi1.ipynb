{
 "cells": [
  {
   "cell_type": "code",
   "execution_count": 2,
   "metadata": {},
   "outputs": [
    {
     "name": "stdout",
     "output_type": "stream",
     "text": [
      "1\n",
      "3\n",
      "5\n",
      "7\n"
     ]
    }
   ],
   "source": [
    "for i in range(1, 9, 2):\n",
    "    print(i)"
   ]
  },
  {
   "cell_type": "code",
   "execution_count": null,
   "metadata": {},
   "outputs": [],
   "source": [
    "n =input(\"Enter a number: \")\n"
   ]
  },
  {
   "cell_type": "code",
   "execution_count": 4,
   "metadata": {},
   "outputs": [
    {
     "name": "stdout",
     "output_type": "stream",
     "text": [
      "Tuấn Anh, Đăng\n"
     ]
    }
   ],
   "source": [
    "st1 = \"Tuấn Anh\"\n",
    "st2 = \"Đăng\"\n",
    "\n",
    "\n",
    "print(st1 + \", \" + st2)"
   ]
  },
  {
   "cell_type": "code",
   "execution_count": null,
   "metadata": {},
   "outputs": [
    {
     "name": "stdout",
     "output_type": "stream",
     "text": [
      "Not correct\n",
      "Not correct\n",
      "Not correct\n",
      "Not correct\n",
      "Not correct\n",
      "Not correct\n",
      "Not correct\n",
      "Not correct\n",
      "Not correct\n",
      "Not correct\n",
      "Not correct\n",
      "Not correct\n",
      "Not correct\n",
      "Not correct\n",
      "Not correct\n",
      "Not correct\n",
      "You win\n"
     ]
    }
   ],
   "source": [
    "import random\n",
    "random_int = random.randint(1, 15)\n",
    "\n",
    "while True:\n",
    "    guess = int(input(\"Enter a number: \"))\n",
    "    if guess == random_int:\n",
    "        print(\"You win\")\n",
    "        break\n",
    "    elif guess < random_int:\n",
    "        print(\"Too low\")\n",
    "    else:\n",
    "        print(\"Too high\")"
   ]
  },
  {
   "cell_type": "code",
   "execution_count": 29,
   "metadata": {},
   "outputs": [
    {
     "name": "stdout",
     "output_type": "stream",
     "text": [
      "v\n",
      "VÌ TINH TÚ J97\n",
      "vì tinh tú j97\n",
      "Vì tinh tú j97\n",
      "['vì', 'tinh', 'tú', 'J97']\n"
     ]
    }
   ],
   "source": [
    "s = \"vì tinh tú J97\"\n",
    "print(s[0])\n",
    "print(s.upper())\n",
    "print(s.lower())\n",
    "print(s.capitalize())\n",
    "s = s.split()\n",
    "print(s)"
   ]
  }
 ],
 "metadata": {
  "kernelspec": {
   "display_name": "Python 3",
   "language": "python",
   "name": "python3"
  },
  "language_info": {
   "codemirror_mode": {
    "name": "ipython",
    "version": 3
   },
   "file_extension": ".py",
   "mimetype": "text/x-python",
   "name": "python",
   "nbconvert_exporter": "python",
   "pygments_lexer": "ipython3",
   "version": "3.12.4"
  }
 },
 "nbformat": 4,
 "nbformat_minor": 2
}
